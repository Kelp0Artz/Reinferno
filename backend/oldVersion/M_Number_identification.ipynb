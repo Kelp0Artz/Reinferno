{
 "cells": [
  {
   "cell_type": "markdown",
   "id": "d180ab57-556d-46b1-a272-ec3227259930",
   "metadata": {},
   "source": [
    "# Importing libraries\n"
   ]
  },
  {
   "cell_type": "code",
   "execution_count": 1,
   "id": "cd73d519-4a9c-465b-ae8e-8c2a71df9bd1",
   "metadata": {
    "editable": true,
    "slideshow": {
     "slide_type": ""
    },
    "tags": []
   },
   "outputs": [
    {
     "name": "stdout",
     "output_type": "stream",
     "text": [
      "WARNING:tensorflow:From C:\\Users\\juraj\\AppData\\Local\\Programs\\Python\\Python311\\Lib\\site-packages\\keras\\src\\losses.py:2976: The name tf.losses.sparse_softmax_cross_entropy is deprecated. Please use tf.compat.v1.losses.sparse_softmax_cross_entropy instead.\n",
      "\n"
     ]
    }
   ],
   "source": [
    "import pandas as pd\n",
    "import math\n",
    "import numpy as np\n",
    "import time\n",
    "import matplotlib\n",
    "from keras.datasets import mnist\n",
    "from decimal import Decimal\n",
    "np.set_printoptions(threshold=np.inf)"
   ]
  },
  {
   "cell_type": "markdown",
   "id": "55387e4c",
   "metadata": {},
   "source": []
  },
  {
   "cell_type": "markdown",
   "id": "10c0c8c7-78e5-418b-891f-4315ab8c17e5",
   "metadata": {},
   "source": [
    "# Data Preparation\n"
   ]
  },
  {
   "cell_type": "markdown",
   "id": "b5b4056a-0fdc-4d87-a977-ed53cbaaa462",
   "metadata": {},
   "source": [
    "## Loading data + distibutuion"
   ]
  },
  {
   "cell_type": "code",
   "execution_count": 2,
   "id": "5d8df16a-16e1-430b-acfc-b79fbe68d6a7",
   "metadata": {},
   "outputs": [],
   "source": [
    "(X_train, Y_train), (X_test, Y_test) = mnist.load_data()"
   ]
  },
  {
   "cell_type": "markdown",
   "id": "ca285a4c-2bbb-4497-9b77-454c4c8cf20e",
   "metadata": {},
   "source": [
    "## Making Numpy Arrays"
   ]
  },
  {
   "cell_type": "code",
   "execution_count": 3,
   "id": "456975b1-0d83-48fe-8e27-12ff69fca2b0",
   "metadata": {},
   "outputs": [],
   "source": [
    "X_train = np.array(X_train)\n",
    "Y_train = np.array(Y_train)\n",
    "X_test = np.array(X_test)\n",
    "Y_test = np.array(Y_test)"
   ]
  },
  {
   "cell_type": "markdown",
   "id": "1b8f6980-70f6-4602-9ef2-dc8fa78aa361",
   "metadata": {},
   "source": [
    "## Reshaping X Data"
   ]
  },
  {
   "cell_type": "code",
   "execution_count": 4,
   "id": "d45e8669-a028-4d55-82ad-0a0961054e07",
   "metadata": {
    "scrolled": true
   },
   "outputs": [
    {
     "data": {
      "text/plain": [
       "array([  0,   0,   0,   0,   0,   0,   0,   0,   0,   0,   0,   0,   0,\n",
       "         0,   0,   0,   0,   0,   0,   0,   0,   0,   0,   0,   0,   0,\n",
       "         0,   0,   0,   0,   0,   0,   0,   0,   0,   0,   0,   0,   0,\n",
       "         0,   0,   0,   0,   0,   0,   0,   0,   0,   0,   0,   0,   0,\n",
       "         0,   0,   0,   0,   0,   0,   0,   0,   0,   0,   0,   0,   0,\n",
       "         0,   0,   0,   0,   0,   0,   0,   0,   0,   0,   0,   0,   0,\n",
       "         0,   0,   0,   0,   0,   0,   0,   0,   0,   0,   0,   0,   0,\n",
       "         0,   0,   0,   0,   0,   0,   0,   0,   0,   0,   0,   0,   0,\n",
       "         0,   0,   0,   0,   0,   0,   0,   0,   0,   0,   0,   0,   0,\n",
       "         0,   0,   0,   0,   0,   0,   0,   0,   0,   0,   0,   0,   0,\n",
       "         0,   0,   0,   0,   0,   0,   0,   0,   0,   0,   0,   0,   0,\n",
       "         0,   0,   0,   0,   0,   0,   0,   0,   0,   0,   0,   0,   0,\n",
       "         0,   0,   0,   0,   0,   0,   0,   0,   0,   0,   0,   0,   0,\n",
       "         0,   0,   0,   0,   0,   0,   0,   0,   0,   0,   0,   6, 143,\n",
       "       254, 254, 254, 254, 255, 217,  54,   0,   0,   0,   0,   0,   0,\n",
       "         0,   0,   0,   0,   0,   0,   0,   0,   0,   0,   0,   0,  26,\n",
       "       181, 254, 254, 254, 254, 254, 254, 254, 165,   0,   0,   0,   0,\n",
       "         0,   0,   0,   0,   0,   0,   0,   0,   0,   0,   0,   0,   0,\n",
       "        28, 215, 254, 237, 101,  18,   7,  50, 251, 254, 216,   0,   0,\n",
       "         0,   0,   0,   0,   0,   0,   0,   0,   0,   0,   0,   0,   0,\n",
       "         0,   5, 177, 254, 213,  28,   0,   0,   0, 119, 254, 254, 179,\n",
       "         0,   0,   0,   0,   0,   0,   0,   0,   0,   0,   0,   0,   0,\n",
       "         0,   0,   0,  51, 254, 253,  84,   0,   0,   0,  34, 251, 254,\n",
       "       254,  69,   0,   0,   0,   0,   0,   0,   0,   0,   0,   0,   0,\n",
       "         0,   0,   0,   0,   0, 224, 254, 185,   0,   0,   0, 149, 221,\n",
       "       254, 254, 210,   4,   0,   0,   0,   0,   0,   0,   0,   0,   0,\n",
       "         0,   0,   0,   0,   0,   0,  20, 244, 254, 166,   0,   0,   0,\n",
       "       103, 253, 254, 254, 128,   0,   0,   0,   0,   0,   0,   0,   0,\n",
       "         0,   0,   0,   0,   0,   0,   0,   0,  60, 254, 254,  96,   0,\n",
       "         0,   0,  68, 252, 254, 237,  13,   0,   0,   0,   0,   0,   0,\n",
       "         0,   0,   0,   0,   0,   0,   0,   0,   0,   0,  60, 254, 254,\n",
       "        96,   0,   0,  25, 231, 254, 254, 166,   0,   0,   0,   0,   0,\n",
       "         0,   0,   0,   0,   0,   0,   0,   0,   0,   0,   0,   0,  60,\n",
       "       254, 254, 149,  18,  61, 235, 254, 254, 254, 105,   0,   0,   0,\n",
       "         0,   0,   0,   0,   0,   0,   0,   0,   0,   0,   0,   0,   0,\n",
       "         0,  26, 246, 254, 242, 234, 254, 254, 254, 254, 254,  85,   0,\n",
       "         0,   0,   0,   0,   0,   0,   0,   0,   0,   0,   0,   0,   0,\n",
       "         0,   0,   0,   0, 201, 254, 254, 254, 245, 224, 250, 254, 210,\n",
       "         4,   0,   0,   0,   0,   0,   0,   0,   0,   0,   0,   0,   0,\n",
       "         0,   0,   0,   0,   0,   0,  22, 154, 191, 157,  39,  31, 248,\n",
       "       254, 191,   0,   0,   0,   0,   0,   0,   0,   0,   0,   0,   0,\n",
       "         0,   0,   0,   0,   0,   0,   0,   0,   0,   0,   0,   0,   0,\n",
       "        65, 254, 254, 191,   0,   0,   0,   0,   0,   0,   0,   0,   0,\n",
       "         0,   0,   0,   0,   0,   0,   0,   0,   0,   0,   0,   0,   0,\n",
       "         0,   0, 111, 254, 254, 175,   0,   0,   0,   0,   0,   0,   0,\n",
       "         0,   0,   0,   0,   0,   0,   0,   0,   0,   0,   0,   0,   0,\n",
       "         0,   0,   0,   0, 116, 254, 254, 118,   0,   0,   0,   0,   0,\n",
       "         0,   0,   0,   0,   0,   0,   0,   0,   0,   0,   0,   0,   0,\n",
       "         0,   0,   0,   0,   0,   1, 197, 254, 254,  83,   0,   0,   0,\n",
       "         0,   0,   0,   0,   0,   0,   0,   0,   0,   0,   0,   0,   0,\n",
       "         0,   0,   0,   0,   0,   0,   0,   5, 234, 254, 244,  30,   0,\n",
       "         0,   0,   0,   0,   0,   0,   0,   0,   0,   0,   0,   0,   0,\n",
       "         0,   0,   0,   0,   0,   0,   0,   0,   0,  78, 254, 254, 212,\n",
       "         0,   0,   0,   0,   0,   0,   0,   0,   0,   0,   0,   0,   0,\n",
       "         0,   0,   0,   0,   0,   0,   0,   0,   0,   0,   0,  34, 234,\n",
       "       212,  43,   0,   0,   0,   0,   0,   0,   0,   0,   0,   0,   0,\n",
       "         0,   0,   0,   0,   0,   0,   0,   0,   0,   0,   0,   0,   0,\n",
       "         0,   0,   0,   0,   0,   0,   0,   0,   0,   0,   0,   0,   0,\n",
       "         0,   0,   0,   0,   0,   0,   0,   0,   0,   0,   0,   0,   0,\n",
       "         0,   0,   0,   0,   0,   0,   0,   0,   0,   0,   0,   0,   0,\n",
       "         0,   0,   0,   0], dtype=uint8)"
      ]
     },
     "execution_count": 4,
     "metadata": {},
     "output_type": "execute_result"
    }
   ],
   "source": [
    "\n",
    "X_train = X_train.reshape(X_train.shape[0], -1)\n",
    "\n",
    "X_test = X_test.reshape(X_test.shape[0], -1)\n",
    "\n",
    "# X_train[num_row, num_column]\n",
    "X_train[800]"
   ]
  },
  {
   "cell_type": "markdown",
   "id": "0a6fec8e-f72a-4199-82f6-6abd1afe96ca",
   "metadata": {},
   "source": [
    "# Making a API Model\n"
   ]
  },
  {
   "cell_type": "markdown",
   "id": "f0696f86-0f5b-4dbd-9562-93c8fd6fcbd5",
   "metadata": {},
   "source": [
    "## ShowBoard"
   ]
  },
  {
   "cell_type": "markdown",
   "id": "24cd3e48-e76c-43fa-ade8-6e5784cb73cf",
   "metadata": {},
   "source": [
    "Class for showing data in terminal"
   ]
  },
  {
   "cell_type": "code",
   "execution_count": 5,
   "id": "2a967226-fc31-46f9-891d-3c93f2a21ee0",
   "metadata": {},
   "outputs": [],
   "source": [
    "class FrontEnd():\n",
    "    def __init__():\n",
    "        pass\n",
    "    @staticmethod\n",
    "    def ShowBoard(func, settings= None):\n",
    "        def wrapper(*args, **kwargs):\n",
    "            start_time = time.time()\n",
    "            result = func(*args, **kwargs)\n",
    "            settings = ['Accuraccy', 'Los']\n",
    "            time.sleep(1)\n",
    "            end_time = time.time()\n",
    "            print(f\"Step: {result[0]} Output: {result[1]} {settings[0]}: {result[1][0]} {settings[1]}: {result[1][1]}\\nTime taken: {end_time - start_time}\\n--------------------------------------------\")\n",
    "            return result\n",
    "        return wrapper"
   ]
  },
  {
   "cell_type": "markdown",
   "id": "5d5a9c35-f0eb-408e-9c30-0dfb8f3009ee",
   "metadata": {},
   "source": [
    "## DataPreparation"
   ]
  },
  {
   "cell_type": "markdown",
   "id": "493f16d5-d839-4336-b155-471abc117b4d",
   "metadata": {},
   "source": [
    "### Main"
   ]
  },
  {
   "cell_type": "markdown",
   "id": "d9e13bbb-0fb8-4088-87e5-8997b7707c2e",
   "metadata": {},
   "source": [
    "Add here functions from AdditionalFuncInput :D"
   ]
  },
  {
   "cell_type": "code",
   "execution_count": 6,
   "id": "5578b13d-9aea-4c07-8c27-bb36adde8cd0",
   "metadata": {},
   "outputs": [],
   "source": [
    "class DataPrep():\n",
    "    def __init__(self):\n",
    "        self.rescaling = None ##Update\n",
    "        \n",
    "    @staticmethod  \n",
    "    def list_sum(array:list) -> list:\n",
    "        sum_value = 0\n",
    "        for value in array:\n",
    "            sum_value += value\n",
    "        return sum_value\n",
    "        \n",
    "    @staticmethod  \n",
    "    def find_index_value(array:list, position:list):\n",
    "        for dim in position:\n",
    "            array = array[dim]\n",
    "        return array\n",
    "     \n",
    "    def flatten(self, input_values, flattened_list = None):\n",
    "        if flattened_list == None:\n",
    "            flattened_list = []\n",
    "        if isinstance(input_values, (list, tuple)):\n",
    "            for element in input_values:\n",
    "                self.flatten(element, flattened_list)\n",
    "        else:\n",
    "            flattened_list.append(input_values)\n",
    "        return flattened_list\n",
    "        \n",
    "    @staticmethod  \n",
    "    def control_shape_LT(obj, size, count=None):\n",
    "        if count is None:\n",
    "            count = []\n",
    "        count.append(len(obj))\n",
    "        for part in obj:\n",
    "            print(part)\n",
    "            if isinstance(part, (list, tuple)):\n",
    "                control_shape_LT(part, size, count)\n",
    "            else:\n",
    "                obj\n",
    "        if len(count) == len(size):\n",
    "            pass\n",
    "            \n",
    "     \n",
    "    def find_average(self, input_values):\n",
    "        average = 0\n",
    "        value_list = self.flatten(input_values)\n",
    "        for value in value_list:\n",
    "            average += value\n",
    "        return average / len(value_list)\n",
    "    \n",
    "    def find_max(self, input_values:list):     \n",
    "        if not isinstance(input_values, (list, tuple)):\n",
    "            return input_values\n",
    "        max_value = float('-inf')\n",
    "        for element in input_values:\n",
    "            max_value_elemnet = self.find_max(element)\n",
    "            if max_value_elemnet > max_value:\n",
    "                max_value = max_value_elemnet\n",
    "        return max_value\n",
    "        \n",
    "    def find_min(self, input_values:list):     \n",
    "        if not isinstance(input_values, (list, tuple)):\n",
    "            return input_values\n",
    "        min_value = float('inf')\n",
    "        for element in input_values:\n",
    "            min_value_elemnet = self.find_min(element)\n",
    "            if min_value_elemnet < min_value:\n",
    "                min_value = min_value_elemnet\n",
    "        return min_value\n",
    "        \n",
    "    def find_shape_LT(self, array, size=None) -> list:  # Add self parameter\n",
    "        if size is None:\n",
    "            size = []\n",
    "        if isinstance(array, (list, tuple)):\n",
    "            size.append(len(array))\n",
    "            if isinstance(array[0], (list, tuple)):  # Correct type checking\n",
    "                self.find_shape_LT(array[0], size)\n",
    "        return size"
   ]
  },
  {
   "cell_type": "markdown",
   "id": "d29569ed-4ecb-4828-8fc3-b349640d0b25",
   "metadata": {},
   "source": [
    "## Input\n"
   ]
  },
  {
   "cell_type": "markdown",
   "id": "03b91426-2a66-49c4-b7f5-c87db2558f65",
   "metadata": {},
   "source": [
    "This works lolus, do not touch this much "
   ]
  },
  {
   "cell_type": "markdown",
   "id": "1f70d6d3-ee11-457a-9482-a7bbd848e4e2",
   "metadata": {},
   "source": [
    "### Main"
   ]
  },
  {
   "cell_type": "code",
   "execution_count": 7,
   "id": "fe7726ed-7b96-465c-a367-c2bd356b7cc6",
   "metadata": {
    "editable": true,
    "slideshow": {
     "slide_type": ""
    },
    "tags": []
   },
   "outputs": [],
   "source": [
    "class Input():\n",
    "    def __init__(self):\n",
    "        self.input_values = np.empty((0,), dtype= np.float64)\n",
    "        self.randomness_coefficient = None\n",
    "        self.input_shape_history = None\n",
    "        self.input_data_shape = None\n",
    "        self.input_values = 'cicaj ma'####\n",
    "        \n",
    "    @staticmethod\n",
    "    def rescaling_values(data,  SCALING_FACTOR=0):\n",
    "        return data / np.float64(SCALING_FACTOR)\n",
    "        \n",
    "    def set_input_values(self, data, SCALING_FACTOR = 0):\n",
    "        for feature in range(data.shape[1]): # for column in range(X_train.shape[1]):  \n",
    "            if SCALING_FACTOR != 0 :    \n",
    "                value = self.rescaling_values(data[feature][0], SCALING_FACTOR)\n",
    "            else:\n",
    "                value = data[feature][0]\n",
    "            self.input_values = np.append(self.input_values, value)  "
   ]
  },
  {
   "cell_type": "markdown",
   "id": "a5c666ea-ceb2-46fe-9656-0d97bf523230",
   "metadata": {
    "editable": true,
    "slideshow": {
     "slide_type": ""
    },
    "tags": []
   },
   "source": [
    "## Output\n"
   ]
  },
  {
   "cell_type": "code",
   "execution_count": 8,
   "id": "1f306696-102b-4edb-a693-9a362578e67e",
   "metadata": {
    "editable": true,
    "slideshow": {
     "slide_type": ""
    },
    "tags": []
   },
   "outputs": [],
   "source": [
    "class Output():\n",
    "    def __init__(self):\n",
    "        self.output = np.empty((0,), dtype = np.float64)\n",
    "        self.output_data_shape = None\n",
    "        self.output_shape_history = None\n",
    "    def set_ouput_shape(self, shape):\n",
    "        pass"
   ]
  },
  {
   "cell_type": "markdown",
   "id": "a172c381-bf36-4280-881a-a4dc59270af7",
   "metadata": {
    "editable": true,
    "slideshow": {
     "slide_type": ""
    },
    "tags": []
   },
   "source": [
    "## Custom Exceptions\n"
   ]
  },
  {
   "cell_type": "code",
   "execution_count": 9,
   "id": "40cd5e4e-5342-4152-bd02-2910d671d4fd",
   "metadata": {
    "editable": true,
    "slideshow": {
     "slide_type": ""
    },
    "tags": []
   },
   "outputs": [],
   "source": [
    "class ExceptionList(Exception):\n",
    "    pass"
   ]
  },
  {
   "cell_type": "markdown",
   "id": "bd025df0-e79c-4670-b6e4-fd904111ed77",
   "metadata": {
    "editable": true,
    "slideshow": {
     "slide_type": ""
    },
    "tags": []
   },
   "source": [
    "## Layer"
   ]
  },
  {
   "cell_type": "markdown",
   "id": "f28d3705-74e1-4981-be3f-1feffde81128",
   "metadata": {
    "editable": true,
    "slideshow": {
     "slide_type": ""
    },
    "tags": []
   },
   "source": [
    "### Weights Functions"
   ]
  },
  {
   "cell_type": "code",
   "execution_count": 10,
   "id": "c74511d7-a04f-40bb-859d-82ca207782a9",
   "metadata": {
    "editable": true,
    "slideshow": {
     "slide_type": ""
    },
    "tags": []
   },
   "outputs": [],
   "source": [
    "class WeightsFunctions():\n",
    "    def __init__(self):\n",
    "        self.randomness_coefficient = None\n",
    "    \n",
    "    def XavierInitialization(self):\n",
    "        if self.input_shape_history != None:\n",
    "            return math.sqrt(6/self.input_data_shape)\n",
    "        else: return \"Error\"\n",
    "    \n",
    "    def HeInitialization(self):\n",
    "        if self.input_shape_history != None and self.output_shape_history != None:\n",
    "            return math.sqrt(2/(self.input_data_shape + self.output_data_shape))\n",
    "        else: return \"Error\"\n",
    "###MAKE IT ADAPT WITH LAYERS"
   ]
  },
  {
   "cell_type": "markdown",
   "id": "d953ab22-e483-4996-b0d9-be874f718142",
   "metadata": {
    "editable": true,
    "slideshow": {
     "slide_type": ""
    },
    "tags": []
   },
   "source": [
    "### Main"
   ]
  },
  {
   "cell_type": "code",
   "execution_count": 11,
   "id": "a7cb08f5-66df-4824-813a-f755f6615f74",
   "metadata": {
    "editable": true,
    "slideshow": {
     "slide_type": ""
    },
    "tags": []
   },
   "outputs": [],
   "source": [
    "class Layer(Input, WeightsFunctions):\n",
    "    def __init__(self):\n",
    "        super().__init__()\n",
    "        self.weights = np.empty((0,), dtype=np.float64)\n",
    "        self.biases = np.empty((0,), dtype=np.float64)\n",
    "        self.layer = None\n",
    "        \n",
    "    def settings(self, *args, **kwargs):\n",
    "        if kwargs:\n",
    "            directory_looker(kwargs)\n",
    "        def directory_looker(dictionary:dict):\n",
    "            for index, obj in enumerate(dictionary):\n",
    "                print(index, obj)\n",
    "    \n",
    "    def random_weights(self, input_values):\n",
    "        return np.random.uniform(-(self.randomness_coefficient), self.randomness_coefficient, (input_values)).astype(np.float64) \n",
    "        \n",
    "    def random_bias(self):\n",
    "        return np.array(np.random.uniform(-(self.randomness_coefficient), self.randomness_coefficient)).astype(np.float64)\n",
    "        \n",
    "    def create_neuron(cls):\n",
    "        #if cls.settings[0] == 'XavierInitialization':\n",
    "        #neuron = tuple([cls.random_weights(cls.input_values, cls.XavierInitialization(cls.input_shape_history, )), cls.random_bias(cls.XavierInitialization(cls.input_shape_history, ))])\n",
    "        #if cls.settings[0] == 'HeInitialization':\n",
    "        return tuple([cls.random_weights(cls.input_data_shape), cls.random_bias()])\n",
    "    \n",
    "    @staticmethod\n",
    "    def create_layer(cls, hidden_layer_neurons:int, input_shape:int = None):\n",
    "        if cls.input_shape_history == None:\n",
    "            cls.input_data_shape = input_shape\n",
    "            cls.input_shape_history = True\n",
    "            cls.randomness_coefficient = cls.XavierInitialization()\n",
    "        layer = []\n",
    "        for neuron in range(hidden_layer_neurons):\n",
    "            if cls.neuron_count == 0: \n",
    "                layer = [[cls.create_neuron()]]\n",
    "            else:\n",
    "                layer.append(cls.create_neuron())\n",
    "            cls.neuron_count += 1\n",
    "        cls.neuron_count = 0\n",
    "        return layer  "
   ]
  },
  {
   "cell_type": "markdown",
   "id": "9fb077ad-6f9d-4ab4-ba6e-947846824dd2",
   "metadata": {
    "editable": true,
    "slideshow": {
     "slide_type": ""
    },
    "tags": []
   },
   "source": [
    "## Cost functions\n"
   ]
  },
  {
   "cell_type": "code",
   "execution_count": 12,
   "id": "34976ee0-6314-494a-a0aa-3fc5dbf65dbd",
   "metadata": {
    "editable": true,
    "slideshow": {
     "slide_type": ""
    },
    "tags": []
   },
   "outputs": [],
   "source": [
    "class CostFunctions(DataPrep):\n",
    "    def __init__(self):\n",
    "        super().__init__()\n",
    "    @staticmethod\n",
    "    def MeanSquaredError(predicted_data, prediction_data):\n",
    "        if len(predicted_data) == len(prediction_data):\n",
    "            results = []\n",
    "            for sample in range(len(predicted_data)):\n",
    "                result = math.pow(prediction_data[sample] - predicted_data[sample], 2)\n",
    "                results.append(result)\n",
    "        else:\n",
    "            return \"Error\"\n",
    "        array = np.array(results, dtype=np.float64)\n",
    "        return array\n",
    "    @staticmethod\n",
    "    def EvalueatingCost(self, array):\n",
    "        return self.find_average(array)\n",
    "        \n",
    "    @staticmethod\n",
    "    def CrossEntropyLoss(input_values):\n",
    "        pass\n",
    "        \n",
    "    @staticmethod\n",
    "    def BinaryCrossEntropyLoss(input_values):\n",
    "        pass"
   ]
  },
  {
   "cell_type": "code",
   "execution_count": 13,
   "id": "f708824e-7ba7-4681-ade8-8462d680e99f",
   "metadata": {},
   "outputs": [
    {
     "data": {
      "text/plain": [
       "9.0"
      ]
     },
     "execution_count": 13,
     "metadata": {},
     "output_type": "execute_result"
    }
   ],
   "source": [
    "CostClass = CostFunctions()\n",
    "\n",
    "k = [1,2,3,4,5,6]\n",
    "l = [1,5,4,3,2,1]\n",
    "\n",
    "b = CostClass.MeanSquaredError(k, l)\n",
    "b[1]"
   ]
  },
  {
   "cell_type": "markdown",
   "id": "b9bae69c-4470-49d0-a6cb-ebc8596c0bf0",
   "metadata": {
    "editable": true,
    "slideshow": {
     "slide_type": ""
    },
    "tags": []
   },
   "source": [
    "## Activation functions"
   ]
  },
  {
   "cell_type": "code",
   "execution_count": 14,
   "id": "9f9659e2-801d-480c-975d-f9675a3cfc4b",
   "metadata": {
    "editable": true,
    "slideshow": {
     "slide_type": ""
    },
    "tags": []
   },
   "outputs": [],
   "source": [
    "class Activacions():\n",
    "    def __init_(self):\n",
    "        self.act_type = {\n",
    "            'relu':Relu,\n",
    "            'all_sigmoid':Sigmoid,\n",
    "        }\n",
    "    @staticmethod\n",
    "    def Relu(input_values:list):\n",
    "        relu_value = np.maximum(0, input_values)\n",
    "        return relu_value\n",
    "        \n",
    "    @staticmethod\n",
    "    def Sigmoid(input_values:list):\n",
    "        output = 1 / (1 + np.exp(-(input_values)))\n",
    "        return output  \n"
   ]
  },
  {
   "cell_type": "markdown",
   "id": "221c3210-18b6-4349-95da-bde35736c565",
   "metadata": {
    "editable": true,
    "slideshow": {
     "slide_type": ""
    },
    "tags": []
   },
   "source": [
    "## Additional Functios\n"
   ]
  },
  {
   "cell_type": "code",
   "execution_count": 15,
   "id": "94d10b68-9eac-428b-8de1-cdb60919c99f",
   "metadata": {
    "editable": true,
    "slideshow": {
     "slide_type": ""
    },
    "tags": []
   },
   "outputs": [],
   "source": [
    "class AdditionalFunctions():\n",
    "    def __init__(self):\n",
    "        pass\n",
    "        \n",
    "    @staticmethod\n",
    "    def measure_runtime(func):\n",
    "        def wrapper(*args, **kwargs):\n",
    "            start_time = time.time()\n",
    "            result = func(start_time)\n",
    "            end_time = time.time()\n",
    "            \n",
    "        return wrapper"
   ]
  },
  {
   "cell_type": "markdown",
   "id": "d6488758-8b3d-4cdd-aa37-7c05b356be42",
   "metadata": {
    "editable": true,
    "slideshow": {
     "slide_type": ""
    },
    "tags": []
   },
   "source": [
    "## Model"
   ]
  },
  {
   "cell_type": "code",
   "execution_count": 16,
   "id": "ffc45786-0dbe-4733-97e1-72e45cc00720",
   "metadata": {
    "editable": true,
    "slideshow": {
     "slide_type": ""
    },
    "tags": []
   },
   "outputs": [],
   "source": [
    "class NeuronNetwork(Layer, AdditionalFunctions, FrontEnd):\n",
    "    def __init__(self):\n",
    "        super().__init__()\n",
    "        self.neuron_count = 0\n",
    "        self.layers = None\n",
    "        self.hidden_layer_neurons = 0 #Work\n",
    "        self.layers_count = 0\n",
    "        self.review_heavy = None #[perIteration[perLayer[weights, biases], settings]]\n",
    "        self.review_light = None #[perLayer[weights, biases], settings]\n",
    "        \n",
    "    def vector_multiply(self, input_values:list, layer:int, neuron):\n",
    "        return np.dot(input_values, self.layers[layer][neuron][0]) + self.layers[layer][neuron][1]\n",
    "      \n",
    "    def forward_propagation(self, input_values):\n",
    "        output = np.empty((0,), dtype=np.float64)\n",
    "        for layer in range(len(self.layers)):\n",
    "            layer_output = []\n",
    "            for neuron in range(len(self.layers[layer])):\n",
    "                neuron_output = self.vector_multiply(input_values, layer, neuron)\n",
    "                layer_output.append(neuron_output)\n",
    "            input_values = np.array(layer_output)  # Pass output of this layer as input to the next layer\n",
    "            output = np.append(output, layer_output)\n",
    "        return output\n",
    "\n",
    "        #return [10, [99, 0]] #delete\n",
    "    #@FrontEnd.ShowBoard \n",
    "    def fit(self, X_data, Y_data, num_batches, activision_type:str = None):\n",
    "        input_data = np.empty((0,))\n",
    "        output_data = np.empty((0,))\n",
    "        self.set_input_values(X_data, 255) #Rework add rescaling addaptivity\n",
    "        \n",
    "        return [10, [99, 0]]\n",
    "        \n",
    "    def evaluate(self, X_data, Y_data):\n",
    "        # [[weights, bias], settinggs, ]\n",
    "        return diagnose\n",
    "        \n",
    "    def add(self, func):\n",
    "        if self.layers == None:\n",
    "            self.layers = func\n",
    "        else:\n",
    "            self.layers.append(func)\n",
    "        "
   ]
  },
  {
   "cell_type": "markdown",
   "id": "c625a8c3-e454-4559-b4f4-97c4b99c8531",
   "metadata": {
    "editable": true,
    "slideshow": {
     "slide_type": ""
    },
    "tags": []
   },
   "source": [
    "# Testing API"
   ]
  },
  {
   "cell_type": "code",
   "execution_count": 17,
   "id": "541d2624-ad9d-4875-aed6-b3211ff265ad",
   "metadata": {
    "editable": true,
    "scrolled": true,
    "slideshow": {
     "slide_type": ""
    },
    "tags": []
   },
   "outputs": [
    {
     "data": {
      "text/plain": [
       "[10, [99, 0]]"
      ]
     },
     "execution_count": 17,
     "metadata": {},
     "output_type": "execute_result"
    }
   ],
   "source": [
    "model = NeuronNetwork()\n",
    "\n",
    "model.add(Layer.create_layer(model, 1, input_shape = 784))\n",
    "model.add(Layer.create_layer(model, 3))\n",
    "model.add(Layer.create_layer(model, 1))\n",
    "#print(len(model.layers[1][0][0][0]))\n",
    "#print(model.layers)\n",
    "\n",
    "model.fit(X_train, Y_train, 10)\n"
   ]
  },
  {
   "cell_type": "markdown",
   "id": "2cc27cde-6696-4231-ba08-99bd418a9cef",
   "metadata": {
    "editable": true,
    "slideshow": {
     "slide_type": ""
    },
    "tags": []
   },
   "source": [
    "# Side tests"
   ]
  },
  {
   "cell_type": "code",
   "execution_count": 18,
   "id": "b6e577c5-8b36-4547-83f9-acc9fe4a766b",
   "metadata": {
    "scrolled": true
   },
   "outputs": [],
   "source": [
    "mean = np.mean(X_train, axis=0)\n",
    "mean =np.mean(mean, axis=0)\n",
    "std_dev = np.std(X_train, axis=0)\n",
    "minimum = np.min(X_train, axis=0)\n",
    "maximum = np.max(X_train, axis=0)\n",
    "percentiles = np.percentile(X_train, [25, 50, 75], axis=0)\n"
   ]
  },
  {
   "cell_type": "markdown",
   "id": "3c3f35f7-86c0-420e-8041-44eec504b4c7",
   "metadata": {
    "editable": true,
    "slideshow": {
     "slide_type": ""
    },
    "tags": []
   },
   "source": [
    "## Checking values"
   ]
  },
  {
   "cell_type": "code",
   "execution_count": 19,
   "id": "767f6fb2-c62d-497d-af08-c248670dba40",
   "metadata": {},
   "outputs": [
    {
     "data": {
      "text/plain": [
       "18.0"
      ]
     },
     "execution_count": 19,
     "metadata": {},
     "output_type": "execute_result"
    }
   ],
   "source": [
    "0.07058823529411765 * 255"
   ]
  },
  {
   "cell_type": "code",
   "execution_count": 20,
   "id": "af4b538d-c42b-497d-b6ff-f0107992f784",
   "metadata": {},
   "outputs": [
    {
     "data": {
      "text/plain": [
       "(0,)"
      ]
     },
     "execution_count": 20,
     "metadata": {},
     "output_type": "execute_result"
    }
   ],
   "source": [
    "k = np.empty((0,))\n",
    "\n",
    "k.shape\n"
   ]
  },
  {
   "cell_type": "code",
   "execution_count": 21,
   "id": "7c361abf-364c-428f-a3fb-c6719d6257f5",
   "metadata": {},
   "outputs": [
    {
     "data": {
      "text/plain": [
       "1"
      ]
     },
     "execution_count": 21,
     "metadata": {},
     "output_type": "execute_result"
    }
   ],
   "source": [
    "k.ndim"
   ]
  },
  {
   "cell_type": "code",
   "execution_count": null,
   "id": "7e57cf70-def2-46a6-bbeb-097675ffd37f",
   "metadata": {},
   "outputs": [],
   "source": []
  }
 ],
 "metadata": {
  "kernelspec": {
   "display_name": "Python 3 (ipykernel)",
   "language": "python",
   "name": "python3"
  },
  "language_info": {
   "codemirror_mode": {
    "name": "ipython",
    "version": 3
   },
   "file_extension": ".py",
   "mimetype": "text/x-python",
   "name": "python",
   "nbconvert_exporter": "python",
   "pygments_lexer": "ipython3",
   "version": "3.11.6"
  }
 },
 "nbformat": 4,
 "nbformat_minor": 5
}
